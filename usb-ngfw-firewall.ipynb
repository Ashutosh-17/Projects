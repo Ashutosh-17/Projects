{
 "cells": [
  {
   "cell_type": "code",
   "execution_count": 13,
   "id": "d9c7045e",
   "metadata": {},
   "outputs": [
    {
     "name": "stderr",
     "output_type": "stream",
     "text": [
      "100%|██████████████████████████████████████████████████████████████████████████████████| 45/45 [00:01<00:00, 31.66it/s]\n"
     ]
    }
   ],
   "source": [
    "# importing required libraries\n",
    "\n",
    "import hashlib\n",
    "import os\n",
    "import psutil\n",
    "import time\n",
    "import tkinter\n",
    "from tkinter import messagebox\n",
    "from tqdm import tqdm\n",
    "\n",
    "\n",
    "# importing the dataset containing md5 hashes of malicious files\n",
    "\n",
    "with open(\"full_md5.txt\",\"r\") as f:\n",
    "    data = f.readlines()[9:-1]\n",
    "    \n",
    "new_data = []\n",
    "\n",
    "for i in data:\n",
    "    new_data.append(i.replace(\"\\n\",\"\"))\n",
    "    \n",
    "\n",
    "# getting the path of usb storage device\n",
    "\n",
    "def get_usb_path():\n",
    "    drives = psutil.disk_partitions()\n",
    "    for drive in drives:\n",
    "        if 'removable' in drive.opts and drive.opts != '':\n",
    "            return drive.device\n",
    "\n",
    "        \n",
    "# DriverCode\n",
    "path = get_usb_path()\n",
    "flag = 0\n",
    "root = tkinter.Tk()\n",
    "root.withdraw()\n",
    "\n",
    "#lists for finding file path\n",
    "file_list = []\n",
    "\n",
    "#hashes of all the files found\n",
    "hash_list = []\n",
    "\n",
    "#list of malwares found\n",
    "mal_list = []\n",
    "\n",
    "for root, dirs, files in os.walk(path):\n",
    "    for file in files:\n",
    "        #append the file name to the list\n",
    "        file_list.append(os.path.join(root,file))\n",
    "        \n",
    "for i in tqdm(range(0, len(file_list))):\n",
    "    str = file_list[i]\n",
    "    \n",
    "    # Open the first file and calculate its MD5 hash\n",
    "    with open(str, 'rb') as f1:\n",
    "        hash1 = hashlib.md5(f1.read()).hexdigest()\n",
    "        hash_list.append(hash1)\n",
    "        \n",
    "for count,i in enumerate(hash_list):\n",
    "    if i in new_data:\n",
    "        mal_list.append(count)\n",
    "        if flag == 0:\n",
    "            flag = 1\n",
    "            \n",
    "            \n",
    "str = \"\"\n",
    "for i in mal_list:\n",
    "    str = str + filelist[i]+\"\\n\"\n",
    "    os.remove(filelist[i])\n",
    "    \n",
    "if flag == 1:\n",
    "    messagebox.showerror(\"Error\",\"Malicious file found at location:\\n\"+str+\"Files Successfully Deleted.\")\n",
    "\n",
    "if flag == 0:\n",
    "    messagebox.showinfo(\"Info\",\"No Issues Found!\")"
   ]
  },
  {
   "cell_type": "code",
   "execution_count": null,
   "id": "c4738dd7",
   "metadata": {},
   "outputs": [],
   "source": []
  }
 ],
 "metadata": {
  "kernelspec": {
   "display_name": "Python 3 (ipykernel)",
   "language": "python",
   "name": "python3"
  },
  "language_info": {
   "codemirror_mode": {
    "name": "ipython",
    "version": 3
   },
   "file_extension": ".py",
   "mimetype": "text/x-python",
   "name": "python",
   "nbconvert_exporter": "python",
   "pygments_lexer": "ipython3",
   "version": "3.9.7"
  }
 },
 "nbformat": 4,
 "nbformat_minor": 5
}
